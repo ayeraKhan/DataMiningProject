{
 "cells": [
  {
   "cell_type": "code",
   "execution_count": null,
   "id": "4692df3f",
   "metadata": {},
   "outputs": [],
   "source": [
    "# ARIMA MODEL IMPLEMENTATION ON ENVIRONMENT DATASET"
   ]
  },
  {
   "cell_type": "code",
   "execution_count": 114,
   "id": "94d98c79",
   "metadata": {},
   "outputs": [],
   "source": [
    "import pandas as pd\n",
    "import numpy as np\n",
    "import matplotlib.pyplot as plt\n",
    "from statsmodels.tsa.arima.model import ARIMA\n",
    "from statsmodels.tsa.statespace.sarimax import SARIMAX\n",
    "from sklearn.metrics import mean_absolute_error, mean_squared_error\n",
    "from statsmodels.tsa.stattools import adfuller"
   ]
  },
  {
   "cell_type": "code",
   "execution_count": 115,
   "id": "3f352783",
   "metadata": {},
   "outputs": [
    {
     "name": "stdout",
     "output_type": "stream",
     "text": [
      "                Country  Year CO2EmissionRate (mt)\n",
      "0           Afghanistan  2021                 8.35\n",
      "1               Albania  2021                 4.59\n",
      "2               Algeria  2021                  173\n",
      "3                Angola  2021                24.45\n",
      "4   Antigua and Barbuda  2021                 0.78\n",
      "5             Argentina  2021                  189\n",
      "6               Armenia  2021                 6.77\n",
      "7                 Aruba  2021                 1.27\n",
      "8             Australia  2021               367.91\n",
      "9               Austria  2021                66.01\n",
      "10           Azerbaijan  2021                37.11\n",
      "11              Bahamas  2021                 4.04\n",
      "12              Bahrain  2021                37.49\n",
      "13           Bangladesh  2021               106.87\n",
      "14             Barbados  2021                 1.77\n",
      "15              Belarus  2021                58.36\n",
      "16              Belgium  2021                95.92\n",
      "17               Belize  2021                 0.64\n",
      "18                Benin  2021                 8.63\n",
      "19              Bermuda  2021                 0.82\n"
     ]
    }
   ],
   "source": [
    "import pandas as pd\n",
    "df = pd.read_csv(\"co2.csv\")\n",
    "print(df.head(20))"
   ]
  },
  {
   "cell_type": "code",
   "execution_count": 116,
   "id": "fbeb6d7f",
   "metadata": {},
   "outputs": [
    {
     "name": "stdout",
     "output_type": "stream",
     "text": [
      "<class 'pandas.core.frame.DataFrame'>\n",
      "RangeIndex: 5572 entries, 0 to 5571\n",
      "Data columns (total 3 columns):\n",
      " #   Column                Non-Null Count  Dtype \n",
      "---  ------                --------------  ----- \n",
      " 0   Country               5572 non-null   object\n",
      " 1   Year                  5572 non-null   int64 \n",
      " 2   CO2EmissionRate (mt)  5572 non-null   object\n",
      "dtypes: int64(1), object(2)\n",
      "memory usage: 130.7+ KB\n",
      "None\n"
     ]
    }
   ],
   "source": [
    "print(df.info())"
   ]
  },
  {
   "cell_type": "code",
   "execution_count": 117,
   "id": "e0b9f46d",
   "metadata": {},
   "outputs": [],
   "source": [
    "# Preprocess the data\n",
    "df['Year'] = pd.to_datetime(df['Year'], format='%Y')  # Convert to datetime format\n",
    "\n",
    "# Check for duplicate values in the \"Year\" column\n",
    "duplicate_years = df[df.duplicated(subset=['Year'], keep=False)]['Year']\n",
    "\n",
    "df.set_index('Year', inplace=True)  # Set \"Year\" as the index\n",
    "df['CO2EmissionRate (mt)'] = pd.to_numeric(df['CO2EmissionRate (mt)'], errors='coerce') "
   ]
  },
  {
   "cell_type": "code",
   "execution_count": 118,
   "id": "307acb33",
   "metadata": {},
   "outputs": [
    {
     "data": {
      "text/html": [
       "<div>\n",
       "<style scoped>\n",
       "    .dataframe tbody tr th:only-of-type {\n",
       "        vertical-align: middle;\n",
       "    }\n",
       "\n",
       "    .dataframe tbody tr th {\n",
       "        vertical-align: top;\n",
       "    }\n",
       "\n",
       "    .dataframe thead th {\n",
       "        text-align: right;\n",
       "    }\n",
       "</style>\n",
       "<table border=\"1\" class=\"dataframe\">\n",
       "  <thead>\n",
       "    <tr style=\"text-align: right;\">\n",
       "      <th></th>\n",
       "      <th>Country</th>\n",
       "      <th>CO2EmissionRate (mt)</th>\n",
       "    </tr>\n",
       "    <tr>\n",
       "      <th>Year</th>\n",
       "      <th></th>\n",
       "      <th></th>\n",
       "    </tr>\n",
       "  </thead>\n",
       "  <tbody>\n",
       "    <tr>\n",
       "      <th>2018-01-01</th>\n",
       "      <td>Togo</td>\n",
       "      <td>0.4</td>\n",
       "    </tr>\n",
       "    <tr>\n",
       "      <th>2018-01-01</th>\n",
       "      <td>Tonga</td>\n",
       "      <td>1.1</td>\n",
       "    </tr>\n",
       "    <tr>\n",
       "      <th>2018-01-01</th>\n",
       "      <td>Trinidad and Tobago</td>\n",
       "      <td>26.2</td>\n",
       "    </tr>\n",
       "    <tr>\n",
       "      <th>2018-01-01</th>\n",
       "      <td>Tunisia</td>\n",
       "      <td>2.8</td>\n",
       "    </tr>\n",
       "    <tr>\n",
       "      <th>2018-01-01</th>\n",
       "      <td>Turkey</td>\n",
       "      <td>5.1</td>\n",
       "    </tr>\n",
       "    <tr>\n",
       "      <th>2018-01-01</th>\n",
       "      <td>Turkmenistan</td>\n",
       "      <td>14.4</td>\n",
       "    </tr>\n",
       "    <tr>\n",
       "      <th>2018-01-01</th>\n",
       "      <td>Turks and Caicos Islands</td>\n",
       "      <td>4.7</td>\n",
       "    </tr>\n",
       "    <tr>\n",
       "      <th>2018-01-01</th>\n",
       "      <td>Uganda</td>\n",
       "      <td>0.1</td>\n",
       "    </tr>\n",
       "    <tr>\n",
       "      <th>2018-01-01</th>\n",
       "      <td>Ukraine</td>\n",
       "      <td>4.5</td>\n",
       "    </tr>\n",
       "    <tr>\n",
       "      <th>2018-01-01</th>\n",
       "      <td>United Arab Emirates</td>\n",
       "      <td>22.4</td>\n",
       "    </tr>\n",
       "    <tr>\n",
       "      <th>2018-01-01</th>\n",
       "      <td>United Kingdom</td>\n",
       "      <td>5.6</td>\n",
       "    </tr>\n",
       "    <tr>\n",
       "      <th>2018-01-01</th>\n",
       "      <td>United States</td>\n",
       "      <td>16.1</td>\n",
       "    </tr>\n",
       "    <tr>\n",
       "      <th>2018-01-01</th>\n",
       "      <td>Uruguay</td>\n",
       "      <td>2.0</td>\n",
       "    </tr>\n",
       "    <tr>\n",
       "      <th>2018-01-01</th>\n",
       "      <td>Uzbekistan</td>\n",
       "      <td>3.1</td>\n",
       "    </tr>\n",
       "    <tr>\n",
       "      <th>2018-01-01</th>\n",
       "      <td>Vanuatu</td>\n",
       "      <td>0.3</td>\n",
       "    </tr>\n",
       "    <tr>\n",
       "      <th>2018-01-01</th>\n",
       "      <td>Venezuela</td>\n",
       "      <td>3.7</td>\n",
       "    </tr>\n",
       "    <tr>\n",
       "      <th>2018-01-01</th>\n",
       "      <td>Vietnam</td>\n",
       "      <td>2.8</td>\n",
       "    </tr>\n",
       "    <tr>\n",
       "      <th>2018-01-01</th>\n",
       "      <td>Yemen</td>\n",
       "      <td>0.4</td>\n",
       "    </tr>\n",
       "    <tr>\n",
       "      <th>2018-01-01</th>\n",
       "      <td>Zambia</td>\n",
       "      <td>0.3</td>\n",
       "    </tr>\n",
       "    <tr>\n",
       "      <th>2018-01-01</th>\n",
       "      <td>Zimbabwe</td>\n",
       "      <td>0.8</td>\n",
       "    </tr>\n",
       "  </tbody>\n",
       "</table>\n",
       "</div>"
      ],
      "text/plain": [
       "                             Country  CO2EmissionRate (mt)\n",
       "Year                                                      \n",
       "2018-01-01                      Togo                   0.4\n",
       "2018-01-01                     Tonga                   1.1\n",
       "2018-01-01       Trinidad and Tobago                  26.2\n",
       "2018-01-01                   Tunisia                   2.8\n",
       "2018-01-01                    Turkey                   5.1\n",
       "2018-01-01              Turkmenistan                  14.4\n",
       "2018-01-01  Turks and Caicos Islands                   4.7\n",
       "2018-01-01                    Uganda                   0.1\n",
       "2018-01-01                   Ukraine                   4.5\n",
       "2018-01-01      United Arab Emirates                  22.4\n",
       "2018-01-01            United Kingdom                   5.6\n",
       "2018-01-01             United States                  16.1\n",
       "2018-01-01                   Uruguay                   2.0\n",
       "2018-01-01                Uzbekistan                   3.1\n",
       "2018-01-01                   Vanuatu                   0.3\n",
       "2018-01-01                 Venezuela                   3.7\n",
       "2018-01-01                   Vietnam                   2.8\n",
       "2018-01-01                     Yemen                   0.4\n",
       "2018-01-01                    Zambia                   0.3\n",
       "2018-01-01                  Zimbabwe                   0.8"
      ]
     },
     "execution_count": 118,
     "metadata": {},
     "output_type": "execute_result"
    }
   ],
   "source": [
    "df.tail(20)"
   ]
  },
  {
   "cell_type": "code",
   "execution_count": 119,
   "id": "e86e7069",
   "metadata": {},
   "outputs": [],
   "source": [
    "# Drop rows with missing values\n",
    "df.dropna(inplace=True)"
   ]
  },
  {
   "cell_type": "code",
   "execution_count": 120,
   "id": "ff38114a",
   "metadata": {},
   "outputs": [
    {
     "data": {
      "text/html": [
       "<div>\n",
       "<style scoped>\n",
       "    .dataframe tbody tr th:only-of-type {\n",
       "        vertical-align: middle;\n",
       "    }\n",
       "\n",
       "    .dataframe tbody tr th {\n",
       "        vertical-align: top;\n",
       "    }\n",
       "\n",
       "    .dataframe thead th {\n",
       "        text-align: right;\n",
       "    }\n",
       "</style>\n",
       "<table border=\"1\" class=\"dataframe\">\n",
       "  <thead>\n",
       "    <tr style=\"text-align: right;\">\n",
       "      <th></th>\n",
       "      <th>Country</th>\n",
       "      <th>CO2EmissionRate (mt)</th>\n",
       "    </tr>\n",
       "    <tr>\n",
       "      <th>Year</th>\n",
       "      <th></th>\n",
       "      <th></th>\n",
       "    </tr>\n",
       "  </thead>\n",
       "  <tbody>\n",
       "    <tr>\n",
       "      <th>2021-01-01</th>\n",
       "      <td>Afghanistan</td>\n",
       "      <td>8.35</td>\n",
       "    </tr>\n",
       "    <tr>\n",
       "      <th>2021-01-01</th>\n",
       "      <td>Albania</td>\n",
       "      <td>4.59</td>\n",
       "    </tr>\n",
       "    <tr>\n",
       "      <th>2021-01-01</th>\n",
       "      <td>Algeria</td>\n",
       "      <td>173.00</td>\n",
       "    </tr>\n",
       "    <tr>\n",
       "      <th>2021-01-01</th>\n",
       "      <td>Angola</td>\n",
       "      <td>24.45</td>\n",
       "    </tr>\n",
       "    <tr>\n",
       "      <th>2021-01-01</th>\n",
       "      <td>Antigua and Barbuda</td>\n",
       "      <td>0.78</td>\n",
       "    </tr>\n",
       "  </tbody>\n",
       "</table>\n",
       "</div>"
      ],
      "text/plain": [
       "                        Country  CO2EmissionRate (mt)\n",
       "Year                                                 \n",
       "2021-01-01          Afghanistan                  8.35\n",
       "2021-01-01              Albania                  4.59\n",
       "2021-01-01              Algeria                173.00\n",
       "2021-01-01               Angola                 24.45\n",
       "2021-01-01  Antigua and Barbuda                  0.78"
      ]
     },
     "execution_count": 120,
     "metadata": {},
     "output_type": "execute_result"
    }
   ],
   "source": [
    "df.head(5)"
   ]
  },
  {
   "cell_type": "code",
   "execution_count": 121,
   "id": "20441756",
   "metadata": {},
   "outputs": [
    {
     "name": "stdout",
     "output_type": "stream",
     "text": [
      "ADF Statistic: -7.229032256337726\n",
      "p-value: 2.0172748058448107e-10\n",
      "The data is likely stationary.\n"
     ]
    }
   ],
   "source": [
    "from statsmodels.tsa.stattools import adfuller\n",
    "\n",
    "# Perform ADF test\n",
    "result = adfuller(df['CO2EmissionRate (mt)'])\n",
    "print('ADF Statistic:', result[0])\n",
    "print('p-value:', result[1])\n",
    "\n",
    "# Check stationarity\n",
    "if result[1] < 0.05:\n",
    "    print('The data is likely stationary.')\n",
    "else:\n",
    "    print('The data is likely non-stationary.')"
   ]
  },
  {
   "cell_type": "code",
   "execution_count": 122,
   "id": "b07c4ea8",
   "metadata": {},
   "outputs": [
    {
     "name": "stderr",
     "output_type": "stream",
     "text": [
      "C:\\Users\\DELL\\anaconda3\\Lib\\site-packages\\statsmodels\\tsa\\base\\tsa_model.py:473: ValueWarning: A date index has been provided, but it has no associated frequency information and so will be ignored when e.g. forecasting.\n",
      "  self._init_dates(dates, freq)\n",
      "C:\\Users\\DELL\\anaconda3\\Lib\\site-packages\\statsmodels\\tsa\\base\\tsa_model.py:473: ValueWarning: A date index has been provided, but it is not monotonic and so will be ignored when e.g. forecasting.\n",
      "  self._init_dates(dates, freq)\n",
      "C:\\Users\\DELL\\anaconda3\\Lib\\site-packages\\statsmodels\\tsa\\base\\tsa_model.py:473: ValueWarning: A date index has been provided, but it has no associated frequency information and so will be ignored when e.g. forecasting.\n",
      "  self._init_dates(dates, freq)\n",
      "C:\\Users\\DELL\\anaconda3\\Lib\\site-packages\\statsmodels\\tsa\\base\\tsa_model.py:473: ValueWarning: A date index has been provided, but it is not monotonic and so will be ignored when e.g. forecasting.\n",
      "  self._init_dates(dates, freq)\n",
      "C:\\Users\\DELL\\anaconda3\\Lib\\site-packages\\statsmodels\\tsa\\base\\tsa_model.py:473: ValueWarning: A date index has been provided, but it has no associated frequency information and so will be ignored when e.g. forecasting.\n",
      "  self._init_dates(dates, freq)\n",
      "C:\\Users\\DELL\\anaconda3\\Lib\\site-packages\\statsmodels\\tsa\\base\\tsa_model.py:473: ValueWarning: A date index has been provided, but it is not monotonic and so will be ignored when e.g. forecasting.\n",
      "  self._init_dates(dates, freq)\n"
     ]
    }
   ],
   "source": [
    "df.index = pd.to_datetime(df.index)\n",
    "\n",
    "# Set frequency of the index to yearly\n",
    "df.index.freq = pd.infer_freq(df.index)\n",
    "\n",
    "# Define ARIMA parameters (p, d, q)\n",
    "p = 1  # Autoregressive (AR) order\n",
    "d = 1  # Differencing (I) order\n",
    "q = 1  # Moving Average (MA) order\n",
    "\n",
    "# Fit ARIMA model\n",
    "model = ARIMA(df['CO2EmissionRate (mt)'], order=(p, d, q))\n",
    "model_fit = model.fit()\n"
   ]
  },
  {
   "cell_type": "code",
   "execution_count": 123,
   "id": "fa2deceb",
   "metadata": {},
   "outputs": [
    {
     "name": "stderr",
     "output_type": "stream",
     "text": [
      "C:\\Users\\DELL\\anaconda3\\Lib\\site-packages\\statsmodels\\tsa\\base\\tsa_model.py:836: ValueWarning: No supported index is available. Prediction results will be given with an integer index beginning at `start`.\n",
      "  return get_prediction_index(\n",
      "C:\\Users\\DELL\\anaconda3\\Lib\\site-packages\\statsmodels\\tsa\\base\\tsa_model.py:836: FutureWarning: No supported index is available. In the next version, calling this method in a model without a supported index will result in an exception.\n",
      "  return get_prediction_index(\n"
     ]
    }
   ],
   "source": [
    "# Forecast\n",
    "forecast = model_fit.forecast(steps=10)  "
   ]
  },
  {
   "cell_type": "code",
   "execution_count": 124,
   "id": "5ab863b9",
   "metadata": {},
   "outputs": [
    {
     "data": {
      "image/png": "[encoded data removed]",
      "text/plain": [
       "<Figure size 640x480 with 1 Axes>"
      ]
     },
     "metadata": {},
     "output_type": "display_data"
    }
   ],
   "source": [
    "# Plot the forecasted values\n",
    "plt.plot(df.index, df['CO2EmissionRate (mt)'], label='Observed')\n",
    "plt.plot(forecast.index, forecast, label='Forecast', color='red')\n",
    "plt.xlabel('Time')\n",
    "plt.ylabel('CO2 Emission Rate (mt)')\n",
    "plt.title('SARIMA Forecast')\n",
    "plt.legend()\n",
    "plt.show()\n"
   ]
  },
  {
   "cell_type": "markdown",
   "id": "61dfe431",
   "metadata": {},
   "source": [
    "# SARIMA"
   ]
  },
  {
   "cell_type": "code",
   "execution_count": 126,
   "id": "a0efbca1",
   "metadata": {},
   "outputs": [],
   "source": [
    "# Define SARIMA parameters\n",
    "order = (1, 1, 1)  # Non-seasonal parameters\n",
    "seasonal_order = (1, 1, 1, 12)  # Seasonal parameters with period 12 (assuming monthly data)"
   ]
  },
  {
   "cell_type": "code",
   "execution_count": 127,
   "id": "bf4e86e0",
   "metadata": {},
   "outputs": [
    {
     "name": "stderr",
     "output_type": "stream",
     "text": [
      "C:\\Users\\DELL\\anaconda3\\Lib\\site-packages\\statsmodels\\tsa\\base\\tsa_model.py:473: ValueWarning: A date index has been provided, but it has no associated frequency information and so will be ignored when e.g. forecasting.\n",
      "  self._init_dates(dates, freq)\n",
      "C:\\Users\\DELL\\anaconda3\\Lib\\site-packages\\statsmodels\\tsa\\base\\tsa_model.py:473: ValueWarning: A date index has been provided, but it is not monotonic and so will be ignored when e.g. forecasting.\n",
      "  self._init_dates(dates, freq)\n",
      "C:\\Users\\DELL\\anaconda3\\Lib\\site-packages\\statsmodels\\tsa\\base\\tsa_model.py:473: ValueWarning: A date index has been provided, but it has no associated frequency information and so will be ignored when e.g. forecasting.\n",
      "  self._init_dates(dates, freq)\n",
      "C:\\Users\\DELL\\anaconda3\\Lib\\site-packages\\statsmodels\\tsa\\base\\tsa_model.py:473: ValueWarning: A date index has been provided, but it is not monotonic and so will be ignored when e.g. forecasting.\n",
      "  self._init_dates(dates, freq)\n"
     ]
    }
   ],
   "source": [
    "# Fit SARIMA model\n",
    "sarima_model = SARIMAX(df['CO2EmissionRate (mt)'], order=order, seasonal_order=seasonal_order)\n",
    "sarima_fit = sarima_model.fit()"
   ]
  },
  {
   "cell_type": "code",
   "execution_count": 130,
   "id": "2fd1e72c",
   "metadata": {},
   "outputs": [
    {
     "name": "stderr",
     "output_type": "stream",
     "text": [
      "C:\\Users\\DELL\\anaconda3\\Lib\\site-packages\\statsmodels\\tsa\\base\\tsa_model.py:836: ValueWarning: No supported index is available. Prediction results will be given with an integer index beginning at `start`.\n",
      "  return get_prediction_index(\n"
     ]
    }
   ],
   "source": [
    "# Forecast with SARIMA model\n",
    "forecast = sarima_fit.get_forecast(steps=18) "
   ]
  },
  {
   "cell_type": "code",
   "execution_count": 137,
   "id": "5b192c68",
   "metadata": {},
   "outputs": [
    {
     "data": {
      "image/png": "[encoded data removed]",
      "text/plain": [
       "<Figure size 640x480 with 1 Axes>"
      ]
     },
     "metadata": {},
     "output_type": "display_data"
    }
   ],
   "source": [
    "import matplotlib.pyplot as plt\n",
    "\n",
    "# Plot observed data\n",
    "plt.plot(df.index, df['CO2EmissionRate (mt)'], label='Observed')\n",
    "\n",
    "# Plot forecasted values\n",
    "forecast_values = forecast.predicted_mean  # Extract forecasted values\n",
    "forecast_index = pd.date_range(start=df.index[-1], periods=len(forecast_values), freq='M')  # Adjust forecast index length\n",
    "\n",
    "plt.plot(forecast_index, forecast_values, label='Forecast', color='yellow')\n",
    "\n",
    "# Add labels and legend\n",
    "plt.xlabel('Time')\n",
    "plt.ylabel('CO2 Emission Rate (mt)')\n",
    "plt.title('SARIMA Forecast')\n",
    "plt.legend()\n",
    "\n",
    "# Show plot\n",
    "plt.show()\n"
   ]
  }
 ],
 "metadata": {
  "kernelspec": {
   "display_name": "Python 3 (ipykernel)",
   "language": "python",
   "name": "python3"
  },
  "language_info": {
   "codemirror_mode": {
    "name": "ipython",
    "version": 3
   },
   "file_extension": ".py",
   "mimetype": "text/x-python",
   "name": "python",
   "nbconvert_exporter": "python",
   "pygments_lexer": "ipython3",
   "version": "3.11.5"
  }
 },
 "nbformat": 4,
 "nbformat_minor": 5
}
